import pandas
d = pandas.read_csv("amazon-sales.csv")
d.head(3)

# Null value count
d.isnull().sum()

# Replacing null values with defaults
d.fillna("100", inplace=True)
d.isnull().sum()

# Removing duplicate data
d.drop_duplicates()

# Attempt to see stats - no meaningful data is obtained
d.describe()

# Dimensions of data
d.shape

# Datatypes - all are wrong
d.dtypes

# Fixing datatypes - price
d.discounted_price = pandas.to_numeric(d.discounted_price.str.replace("₹|,", "", regex=True))
d.actual_price = pandas.to_numeric(d.actual_price.str.replace("₹|,", "", regex=True))
d.dtypes

# Fixing datatypes - discount
d.discount_percentage = pandas.to_numeric(d.discount_percentage.str.replace("%", ""))
d.dtypes

# Fixing datatypes - rating and rating count
d.rating = pandas.to_numeric(d.rating.str.replace("\|", "", regex=True))
d.rating_count = pandas.to_numeric(d.rating_count.str.replace(",", "", regex=True))
d.dtypes

# Fixing datatypes - rest
d = d.astype({
	"product_id": "string", "product_name": "string", "about_product": "string", "category": "string",
	"user_id": "string", "user_name": "string",
	"review_id": "string", "review_title": "string", "review_content": "string",
	"img_link": "string", "product_link": "string"
})
d.dtypes

d.describe()

# The category column is categorical. We can transform this into one-hot encoding format
categories = d.category.str.get_dummies()
categories

# Stats about categories
category_data = categories.sum().sort_values(ascending=False)
category_data
